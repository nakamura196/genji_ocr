{
 "cells": [
  {
   "cell_type": "code",
   "execution_count": 9,
   "metadata": {},
   "outputs": [],
   "source": [
    "%reload_ext autoreload\n",
    "%autoreload 2\n",
    "from ndlkotensekiocr_tools.core import CoreClient\n",
    "client = CoreClient()"
   ]
  },
  {
   "cell_type": "code",
   "execution_count": 10,
   "metadata": {},
   "outputs": [
    {
     "name": "stderr",
     "output_type": "stream",
     "text": [
      "Downloading images:   0%|          | 0/32 [00:00<?, ?it/s]"
     ]
    },
    {
     "name": "stdout",
     "output_type": "stream",
     "text": [
      "{'image_url': 'https://kokusho.nijl.ac.jp/api/iiif/100421273/v4/TKAL/TKAL-00617/TKAL-00617-00005.tif/full/1200,/0/default.jpg', 'output_path': './tmp/data/nijl-100421273/img/0006.jpg'}\n"
     ]
    },
    {
     "name": "stderr",
     "output_type": "stream",
     "text": [
      "Downloading images:  19%|█▉        | 6/32 [00:01<00:05,  5.14it/s]"
     ]
    },
    {
     "name": "stdout",
     "output_type": "stream",
     "text": [
      "{'image_url': 'https://kokusho.nijl.ac.jp/api/iiif/100421273/v4/TKAL/TKAL-00617/TKAL-00617-00006.tif/full/1200,/0/default.jpg', 'output_path': './tmp/data/nijl-100421273/img/0007.jpg'}\n"
     ]
    },
    {
     "name": "stderr",
     "output_type": "stream",
     "text": [
      "Downloading images:  22%|██▏       | 7/32 [00:04<00:19,  1.29it/s]"
     ]
    },
    {
     "name": "stdout",
     "output_type": "stream",
     "text": [
      "{'image_url': 'https://kokusho.nijl.ac.jp/api/iiif/100421273/v4/TKAL/TKAL-00617/TKAL-00617-00007.tif/full/1200,/0/default.jpg', 'output_path': './tmp/data/nijl-100421273/img/0008.jpg'}\n"
     ]
    },
    {
     "name": "stderr",
     "output_type": "stream",
     "text": [
      "Downloading images:  25%|██▌       | 8/32 [00:05<00:21,  1.11it/s]"
     ]
    },
    {
     "name": "stdout",
     "output_type": "stream",
     "text": [
      "{'image_url': 'https://kokusho.nijl.ac.jp/api/iiif/100421273/v4/TKAL/TKAL-00617/TKAL-00617-00008.tif/full/1200,/0/default.jpg', 'output_path': './tmp/data/nijl-100421273/img/0009.jpg'}\n"
     ]
    },
    {
     "name": "stderr",
     "output_type": "stream",
     "text": [
      "Downloading images:  28%|██▊       | 9/32 [00:08<00:32,  1.42s/it]"
     ]
    },
    {
     "name": "stdout",
     "output_type": "stream",
     "text": [
      "{'image_url': 'https://kokusho.nijl.ac.jp/api/iiif/100421273/v4/TKAL/TKAL-00617/TKAL-00617-00009.tif/full/1200,/0/default.jpg', 'output_path': './tmp/data/nijl-100421273/img/0010.jpg'}\n"
     ]
    },
    {
     "name": "stderr",
     "output_type": "stream",
     "text": [
      "Downloading images:  31%|███▏      | 10/32 [00:10<00:34,  1.59s/it]"
     ]
    },
    {
     "name": "stdout",
     "output_type": "stream",
     "text": [
      "{'image_url': 'https://kokusho.nijl.ac.jp/api/iiif/100421273/v4/TKAL/TKAL-00617/TKAL-00617-00010.tif/full/1200,/0/default.jpg', 'output_path': './tmp/data/nijl-100421273/img/0011.jpg'}\n"
     ]
    },
    {
     "name": "stderr",
     "output_type": "stream",
     "text": [
      "Downloading images:  34%|███▍      | 11/32 [00:12<00:31,  1.50s/it]"
     ]
    },
    {
     "name": "stdout",
     "output_type": "stream",
     "text": [
      "{'image_url': 'https://kokusho.nijl.ac.jp/api/iiif/100421273/v4/TKAL/TKAL-00617/TKAL-00617-00011.tif/full/1200,/0/default.jpg', 'output_path': './tmp/data/nijl-100421273/img/0012.jpg'}\n"
     ]
    },
    {
     "name": "stderr",
     "output_type": "stream",
     "text": [
      "Downloading images:  38%|███▊      | 12/32 [00:13<00:28,  1.42s/it]"
     ]
    },
    {
     "name": "stdout",
     "output_type": "stream",
     "text": [
      "{'image_url': 'https://kokusho.nijl.ac.jp/api/iiif/100421273/v4/TKAL/TKAL-00617/TKAL-00617-00012.tif/full/1200,/0/default.jpg', 'output_path': './tmp/data/nijl-100421273/img/0013.jpg'}\n"
     ]
    },
    {
     "name": "stderr",
     "output_type": "stream",
     "text": [
      "Downloading images:  41%|████      | 13/32 [00:14<00:26,  1.40s/it]"
     ]
    },
    {
     "name": "stdout",
     "output_type": "stream",
     "text": [
      "{'image_url': 'https://kokusho.nijl.ac.jp/api/iiif/100421273/v4/TKAL/TKAL-00617/TKAL-00617-00013.tif/full/1200,/0/default.jpg', 'output_path': './tmp/data/nijl-100421273/img/0014.jpg'}\n"
     ]
    },
    {
     "name": "stderr",
     "output_type": "stream",
     "text": [
      "Downloading images:  44%|████▍     | 14/32 [00:15<00:24,  1.34s/it]"
     ]
    },
    {
     "name": "stdout",
     "output_type": "stream",
     "text": [
      "{'image_url': 'https://kokusho.nijl.ac.jp/api/iiif/100421273/v4/TKAL/TKAL-00617/TKAL-00617-00014.tif/full/1200,/0/default.jpg', 'output_path': './tmp/data/nijl-100421273/img/0015.jpg'}\n"
     ]
    },
    {
     "name": "stderr",
     "output_type": "stream",
     "text": [
      "Downloading images:  47%|████▋     | 15/32 [00:17<00:22,  1.31s/it]"
     ]
    },
    {
     "name": "stdout",
     "output_type": "stream",
     "text": [
      "{'image_url': 'https://kokusho.nijl.ac.jp/api/iiif/100421273/v4/TKAL/TKAL-00617/TKAL-00617-00015.tif/full/1200,/0/default.jpg', 'output_path': './tmp/data/nijl-100421273/img/0016.jpg'}\n"
     ]
    },
    {
     "name": "stderr",
     "output_type": "stream",
     "text": [
      "Downloading images:  50%|█████     | 16/32 [00:18<00:20,  1.27s/it]"
     ]
    },
    {
     "name": "stdout",
     "output_type": "stream",
     "text": [
      "{'image_url': 'https://kokusho.nijl.ac.jp/api/iiif/100421273/v4/TKAL/TKAL-00617/TKAL-00617-00016.tif/full/1200,/0/default.jpg', 'output_path': './tmp/data/nijl-100421273/img/0017.jpg'}\n"
     ]
    },
    {
     "name": "stderr",
     "output_type": "stream",
     "text": [
      "Downloading images:  53%|█████▎    | 17/32 [00:19<00:18,  1.25s/it]"
     ]
    },
    {
     "name": "stdout",
     "output_type": "stream",
     "text": [
      "{'image_url': 'https://kokusho.nijl.ac.jp/api/iiif/100421273/v4/TKAL/TKAL-00617/TKAL-00617-00017.tif/full/1200,/0/default.jpg', 'output_path': './tmp/data/nijl-100421273/img/0018.jpg'}\n"
     ]
    },
    {
     "name": "stderr",
     "output_type": "stream",
     "text": [
      "Downloading images:  56%|█████▋    | 18/32 [00:20<00:17,  1.23s/it]"
     ]
    },
    {
     "name": "stdout",
     "output_type": "stream",
     "text": [
      "{'image_url': 'https://kokusho.nijl.ac.jp/api/iiif/100421273/v4/TKAL/TKAL-00617/TKAL-00617-00018.tif/full/1200,/0/default.jpg', 'output_path': './tmp/data/nijl-100421273/img/0019.jpg'}\n"
     ]
    },
    {
     "name": "stderr",
     "output_type": "stream",
     "text": [
      "Downloading images:  59%|█████▉    | 19/32 [00:22<00:16,  1.25s/it]"
     ]
    },
    {
     "name": "stdout",
     "output_type": "stream",
     "text": [
      "{'image_url': 'https://kokusho.nijl.ac.jp/api/iiif/100421273/v4/TKAL/TKAL-00617/TKAL-00617-00019.tif/full/1200,/0/default.jpg', 'output_path': './tmp/data/nijl-100421273/img/0020.jpg'}\n"
     ]
    },
    {
     "name": "stderr",
     "output_type": "stream",
     "text": [
      "Downloading images:  62%|██████▎   | 20/32 [00:23<00:14,  1.23s/it]"
     ]
    },
    {
     "name": "stdout",
     "output_type": "stream",
     "text": [
      "{'image_url': 'https://kokusho.nijl.ac.jp/api/iiif/100421273/v4/TKAL/TKAL-00617/TKAL-00617-00020.tif/full/1200,/0/default.jpg', 'output_path': './tmp/data/nijl-100421273/img/0021.jpg'}\n"
     ]
    },
    {
     "name": "stderr",
     "output_type": "stream",
     "text": [
      "Downloading images:  66%|██████▌   | 21/32 [00:24<00:13,  1.22s/it]"
     ]
    },
    {
     "name": "stdout",
     "output_type": "stream",
     "text": [
      "{'image_url': 'https://kokusho.nijl.ac.jp/api/iiif/100421273/v4/TKAL/TKAL-00617/TKAL-00617-00021.tif/full/1200,/0/default.jpg', 'output_path': './tmp/data/nijl-100421273/img/0022.jpg'}\n"
     ]
    },
    {
     "name": "stderr",
     "output_type": "stream",
     "text": [
      "Downloading images:  69%|██████▉   | 22/32 [00:25<00:12,  1.21s/it]"
     ]
    },
    {
     "name": "stdout",
     "output_type": "stream",
     "text": [
      "{'image_url': 'https://kokusho.nijl.ac.jp/api/iiif/100421273/v4/TKAL/TKAL-00617/TKAL-00617-00022.tif/full/1200,/0/default.jpg', 'output_path': './tmp/data/nijl-100421273/img/0023.jpg'}\n"
     ]
    },
    {
     "name": "stderr",
     "output_type": "stream",
     "text": [
      "Downloading images:  72%|███████▏  | 23/32 [00:26<00:10,  1.21s/it]"
     ]
    },
    {
     "name": "stdout",
     "output_type": "stream",
     "text": [
      "{'image_url': 'https://kokusho.nijl.ac.jp/api/iiif/100421273/v4/TKAL/TKAL-00617/TKAL-00617-00023.tif/full/1200,/0/default.jpg', 'output_path': './tmp/data/nijl-100421273/img/0024.jpg'}\n"
     ]
    },
    {
     "name": "stderr",
     "output_type": "stream",
     "text": [
      "Downloading images:  75%|███████▌  | 24/32 [00:28<00:09,  1.21s/it]"
     ]
    },
    {
     "name": "stdout",
     "output_type": "stream",
     "text": [
      "{'image_url': 'https://kokusho.nijl.ac.jp/api/iiif/100421273/v4/TKAL/TKAL-00617/TKAL-00617-00024.tif/full/1200,/0/default.jpg', 'output_path': './tmp/data/nijl-100421273/img/0025.jpg'}\n"
     ]
    },
    {
     "name": "stderr",
     "output_type": "stream",
     "text": [
      "Downloading images:  78%|███████▊  | 25/32 [00:29<00:08,  1.21s/it]"
     ]
    },
    {
     "name": "stdout",
     "output_type": "stream",
     "text": [
      "{'image_url': 'https://kokusho.nijl.ac.jp/api/iiif/100421273/v4/TKAL/TKAL-00617/TKAL-00617-00025.tif/full/1200,/0/default.jpg', 'output_path': './tmp/data/nijl-100421273/img/0026.jpg'}\n"
     ]
    },
    {
     "name": "stderr",
     "output_type": "stream",
     "text": [
      "Downloading images:  81%|████████▏ | 26/32 [00:30<00:07,  1.21s/it]"
     ]
    },
    {
     "name": "stdout",
     "output_type": "stream",
     "text": [
      "{'image_url': 'https://kokusho.nijl.ac.jp/api/iiif/100421273/v4/TKAL/TKAL-00617/TKAL-00617-00026.tif/full/1200,/0/default.jpg', 'output_path': './tmp/data/nijl-100421273/img/0027.jpg'}\n"
     ]
    },
    {
     "name": "stderr",
     "output_type": "stream",
     "text": [
      "Downloading images:  84%|████████▍ | 27/32 [00:31<00:06,  1.20s/it]"
     ]
    },
    {
     "name": "stdout",
     "output_type": "stream",
     "text": [
      "{'image_url': 'https://kokusho.nijl.ac.jp/api/iiif/100421273/v4/TKAL/TKAL-00617/TKAL-00617-00027.tif/full/1200,/0/default.jpg', 'output_path': './tmp/data/nijl-100421273/img/0028.jpg'}\n"
     ]
    },
    {
     "name": "stderr",
     "output_type": "stream",
     "text": [
      "Downloading images:  88%|████████▊ | 28/32 [00:33<00:05,  1.27s/it]"
     ]
    },
    {
     "name": "stdout",
     "output_type": "stream",
     "text": [
      "{'image_url': 'https://kokusho.nijl.ac.jp/api/iiif/100421273/v4/TKAL/TKAL-00617/TKAL-00617-00028.tif/full/1200,/0/default.jpg', 'output_path': './tmp/data/nijl-100421273/img/0029.jpg'}\n"
     ]
    },
    {
     "name": "stderr",
     "output_type": "stream",
     "text": [
      "Downloading images:  91%|█████████ | 29/32 [00:34<00:04,  1.46s/it]"
     ]
    },
    {
     "name": "stdout",
     "output_type": "stream",
     "text": [
      "{'image_url': 'https://kokusho.nijl.ac.jp/api/iiif/100421273/v4/TKAL/TKAL-00617/TKAL-00617-00029.tif/full/1200,/0/default.jpg', 'output_path': './tmp/data/nijl-100421273/img/0030.jpg'}\n"
     ]
    },
    {
     "name": "stderr",
     "output_type": "stream",
     "text": [
      "Downloading images:  94%|█████████▍| 30/32 [00:38<00:03,  1.99s/it]"
     ]
    },
    {
     "name": "stdout",
     "output_type": "stream",
     "text": [
      "{'image_url': 'https://kokusho.nijl.ac.jp/api/iiif/100421273/v4/TKAL/TKAL-00617/TKAL-00617-00030.tif/full/1200,/0/default.jpg', 'output_path': './tmp/data/nijl-100421273/img/0031.jpg'}\n"
     ]
    },
    {
     "name": "stderr",
     "output_type": "stream",
     "text": [
      "Downloading images:  97%|█████████▋| 31/32 [00:39<00:01,  1.75s/it]"
     ]
    },
    {
     "name": "stdout",
     "output_type": "stream",
     "text": [
      "{'image_url': 'https://kokusho.nijl.ac.jp/api/iiif/100421273/v4/TKAL/TKAL-00617/TKAL-00617-00031.tif/full/1200,/0/default.jpg', 'output_path': './tmp/data/nijl-100421273/img/0032.jpg'}\n"
     ]
    },
    {
     "name": "stderr",
     "output_type": "stream",
     "text": [
      "Downloading images: 100%|██████████| 32/32 [00:40<00:00,  1.27s/it]\n"
     ]
    },
    {
     "name": "stdout",
     "output_type": "stream",
     "text": [
      "['/Users/nakamura/git/genji/ndlkotenocr-tools/tmp/data/nijl-100421273/img/0012.jpg', '/Users/nakamura/git/genji/ndlkotenocr-tools/tmp/data/nijl-100421273/img/0006.jpg', '/Users/nakamura/git/genji/ndlkotenocr-tools/tmp/data/nijl-100421273/img/0007.jpg', '/Users/nakamura/git/genji/ndlkotenocr-tools/tmp/data/nijl-100421273/img/0013.jpg', '/Users/nakamura/git/genji/ndlkotenocr-tools/tmp/data/nijl-100421273/img/0005.jpg', '/Users/nakamura/git/genji/ndlkotenocr-tools/tmp/data/nijl-100421273/img/0011.jpg', '/Users/nakamura/git/genji/ndlkotenocr-tools/tmp/data/nijl-100421273/img/0010.jpg', '/Users/nakamura/git/genji/ndlkotenocr-tools/tmp/data/nijl-100421273/img/0004.jpg', '/Users/nakamura/git/genji/ndlkotenocr-tools/tmp/data/nijl-100421273/img/0028.jpg', '/Users/nakamura/git/genji/ndlkotenocr-tools/tmp/data/nijl-100421273/img/0014.jpg', '/Users/nakamura/git/genji/ndlkotenocr-tools/tmp/data/nijl-100421273/img/0015.jpg', '/Users/nakamura/git/genji/ndlkotenocr-tools/tmp/data/nijl-100421273/img/0001.jpg', '/Users/nakamura/git/genji/ndlkotenocr-tools/tmp/data/nijl-100421273/img/0029.jpg', '/Users/nakamura/git/genji/ndlkotenocr-tools/tmp/data/nijl-100421273/img/0017.jpg', '/Users/nakamura/git/genji/ndlkotenocr-tools/tmp/data/nijl-100421273/img/0003.jpg', '/Users/nakamura/git/genji/ndlkotenocr-tools/tmp/data/nijl-100421273/img/0002.jpg', '/Users/nakamura/git/genji/ndlkotenocr-tools/tmp/data/nijl-100421273/img/0016.jpg', '/Users/nakamura/git/genji/ndlkotenocr-tools/tmp/data/nijl-100421273/img/0027.jpg', '/Users/nakamura/git/genji/ndlkotenocr-tools/tmp/data/nijl-100421273/img/0026.jpg', '/Users/nakamura/git/genji/ndlkotenocr-tools/tmp/data/nijl-100421273/img/0032.jpg', '/Users/nakamura/git/genji/ndlkotenocr-tools/tmp/data/nijl-100421273/img/0024.jpg', '/Users/nakamura/git/genji/ndlkotenocr-tools/tmp/data/nijl-100421273/img/0030.jpg', '/Users/nakamura/git/genji/ndlkotenocr-tools/tmp/data/nijl-100421273/img/0018.jpg', '/Users/nakamura/git/genji/ndlkotenocr-tools/tmp/data/nijl-100421273/img/0019.jpg', '/Users/nakamura/git/genji/ndlkotenocr-tools/tmp/data/nijl-100421273/img/0031.jpg', '/Users/nakamura/git/genji/ndlkotenocr-tools/tmp/data/nijl-100421273/img/0025.jpg', '/Users/nakamura/git/genji/ndlkotenocr-tools/tmp/data/nijl-100421273/img/0009.jpg', '/Users/nakamura/git/genji/ndlkotenocr-tools/tmp/data/nijl-100421273/img/0021.jpg', '/Users/nakamura/git/genji/ndlkotenocr-tools/tmp/data/nijl-100421273/img/0020.jpg', '/Users/nakamura/git/genji/ndlkotenocr-tools/tmp/data/nijl-100421273/img/0008.jpg', '/Users/nakamura/git/genji/ndlkotenocr-tools/tmp/data/nijl-100421273/img/0022.jpg', '/Users/nakamura/git/genji/ndlkotenocr-tools/tmp/data/nijl-100421273/img/0023.jpg']\n",
      "[INFO] Intialize Model\n",
      "[INFO] Inference Image\n",
      "[INFO] Intialize Model\n",
      "[INFO] Inference Image\n",
      "[INFO] Intialize Model\n",
      "[INFO] Inference Image\n",
      "[INFO] Intialize Model\n",
      "[INFO] Inference Image\n",
      "[INFO] Intialize Model\n",
      "[INFO] Inference Image\n",
      "[INFO] Intialize Model\n",
      "[INFO] Inference Image\n",
      "[INFO] Intialize Model\n",
      "[INFO] Inference Image\n",
      "[INFO] Intialize Model\n",
      "[INFO] Inference Image\n",
      "[INFO] Intialize Model\n",
      "[INFO] Inference Image\n",
      "[INFO] Intialize Model\n",
      "[INFO] Inference Image\n",
      "[INFO] Intialize Model\n",
      "[INFO] Inference Image\n",
      "[INFO] Intialize Model\n",
      "[INFO] Inference Image\n",
      "[INFO] Intialize Model\n",
      "[INFO] Inference Image\n",
      "[INFO] Intialize Model\n",
      "[INFO] Inference Image\n",
      "[INFO] Intialize Model\n",
      "[INFO] Inference Image\n",
      "[INFO] Intialize Model\n",
      "[INFO] Inference Image\n",
      "[INFO] Intialize Model\n",
      "[INFO] Inference Image\n",
      "[INFO] Intialize Model\n",
      "[INFO] Inference Image\n",
      "[INFO] Intialize Model\n",
      "[INFO] Inference Image\n",
      "[INFO] Intialize Model\n",
      "[INFO] Inference Image\n",
      "[INFO] Intialize Model\n",
      "[INFO] Inference Image\n",
      "[INFO] Intialize Model\n",
      "[INFO] Inference Image\n",
      "[INFO] Intialize Model\n",
      "[INFO] Inference Image\n",
      "[INFO] Intialize Model\n",
      "[INFO] Inference Image\n",
      "[INFO] Intialize Model\n",
      "[INFO] Inference Image\n",
      "[INFO] Intialize Model\n",
      "[INFO] Inference Image\n",
      "[INFO] Intialize Model\n",
      "[INFO] Inference Image\n",
      "[INFO] Intialize Model\n",
      "[INFO] Inference Image\n",
      "[INFO] Intialize Model\n",
      "[INFO] Inference Image\n",
      "[INFO] Intialize Model\n",
      "[INFO] Inference Image\n",
      "[INFO] Intialize Model\n",
      "[INFO] Inference Image\n",
      "[INFO] Intialize Model\n",
      "[INFO] Inference Image\n"
     ]
    },
    {
     "name": "stderr",
     "output_type": "stream",
     "text": [
      "Creating TEI/XML: 31it [00:00, 3125.64it/s]\n"
     ]
    }
   ],
   "source": [
    "# manifest_url = \"https://iiif.dl.itc.u-tokyo.ac.jp/repo/iiif/b90bbddc-509d-7c12-0fb9-af409a90a487/manifest\"\n",
    "# id = \"utokyo-b90bbddc-509d-7c12-0fb9-af409a90a487\"\n",
    "manifest_url = \"https://kokusho.nijl.ac.jp/biblio/100421273/manifest\"\n",
    "id = \"nijl-100421273\"\n",
    "\n",
    "# manifest_url = \"https://nakamura196.github.io/easy_iiif/iiif/2/loc_2008427768v12/manifest.json\"\n",
    "# id = \"loc_2008427768v12\"\n",
    "\n",
    "output_dir = f\"./tmp/data/{id}\"\n",
    "\n",
    "CoreClient.main(manifest_url, output_dir, \"/Users/nakamura/git/genji/ndlkotenocr-tools/ndlkotenocr-lite/src\", verbose=True, end_index=-1)"
   ]
  },
  {
   "cell_type": "code",
   "execution_count": null,
   "metadata": {},
   "outputs": [],
   "source": []
  }
 ],
 "metadata": {
  "kernelspec": {
   "display_name": ".venv",
   "language": "python",
   "name": "python3"
  },
  "language_info": {
   "codemirror_mode": {
    "name": "ipython",
    "version": 3
   },
   "file_extension": ".py",
   "mimetype": "text/x-python",
   "name": "python",
   "nbconvert_exporter": "python",
   "pygments_lexer": "ipython3",
   "version": "3.9.11"
  }
 },
 "nbformat": 4,
 "nbformat_minor": 2
}
