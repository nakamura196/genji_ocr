{
 "cells": [
  {
   "cell_type": "code",
   "execution_count": 54,
   "metadata": {},
   "outputs": [],
   "source": [
    "%reload_ext autoreload\n",
    "%autoreload 2\n",
    "from genji_ocr.core import CoreClient\n",
    "client = CoreClient()"
   ]
  },
  {
   "cell_type": "code",
   "execution_count": 55,
   "metadata": {},
   "outputs": [
    {
     "name": "stderr",
     "output_type": "stream",
     "text": [
      "Downloading images: 100%|██████████| 33/33 [00:00<00:00, 38781.74it/s]\n",
      "Creating TEI/XML: 33it [00:00, 1800.43it/s]\n"
     ]
    }
   ],
   "source": [
    "manifest_url = \"https://iiif.dl.itc.u-tokyo.ac.jp/repo/iiif/b90bbddc-509d-7c12-0fb9-af409a90a487/manifest\"\n",
    "\n",
    "id = \"utokyo-b90bbddc-509d-7c12-0fb9-af409a90a487\"\n",
    "\n",
    "manifest_url = \"https://kokusho.nijl.ac.jp/biblio/100421273/manifest\"\n",
    "\n",
    "id = \"nijl-100421273\"\n",
    "\n",
    "output_dir = f\"./tmp/data4/{id}\"\n",
    "\n",
    "CoreClient.main(manifest_url, output_dir, \"/Users/nakamura/git/genji/ndlkotenocr-lite/ndlkotenocr-lite/src\")"
   ]
  }
 ],
 "metadata": {
  "kernelspec": {
   "display_name": ".venv",
   "language": "python",
   "name": "python3"
  },
  "language_info": {
   "codemirror_mode": {
    "name": "ipython",
    "version": 3
   },
   "file_extension": ".py",
   "mimetype": "text/x-python",
   "name": "python",
   "nbconvert_exporter": "python",
   "pygments_lexer": "ipython3",
   "version": "3.9.11"
  }
 },
 "nbformat": 4,
 "nbformat_minor": 2
}
