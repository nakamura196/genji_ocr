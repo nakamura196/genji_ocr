{
 "cells": [
  {
   "cell_type": "code",
   "execution_count": 58,
   "metadata": {},
   "outputs": [],
   "source": [
    "%reload_ext autoreload\n",
    "%autoreload 2\n",
    "from ndlkotensekiocr_tools.core import CoreClient\n",
    "client = CoreClient()"
   ]
  },
  {
   "cell_type": "code",
   "execution_count": 59,
   "metadata": {},
   "outputs": [
    {
     "name": "stderr",
     "output_type": "stream",
     "text": [
      "Downloading images: 100%|██████████| 33/33 [00:00<00:00, 44462.59it/s]\n"
     ]
    },
    {
     "name": "stdout",
     "output_type": "stream",
     "text": [
      "['/Users/nakamura/git/genji/ndlkotenocr-lite/data/nijl-100421273/img/0012.jpg', '/Users/nakamura/git/genji/ndlkotenocr-lite/data/nijl-100421273/img/0006.jpg', '/Users/nakamura/git/genji/ndlkotenocr-lite/data/nijl-100421273/img/0007.jpg', '/Users/nakamura/git/genji/ndlkotenocr-lite/data/nijl-100421273/img/0013.jpg', '/Users/nakamura/git/genji/ndlkotenocr-lite/data/nijl-100421273/img/0005.jpg', '/Users/nakamura/git/genji/ndlkotenocr-lite/data/nijl-100421273/img/0011.jpg', '/Users/nakamura/git/genji/ndlkotenocr-lite/data/nijl-100421273/img/0010.jpg', '/Users/nakamura/git/genji/ndlkotenocr-lite/data/nijl-100421273/img/0004.jpg', '/Users/nakamura/git/genji/ndlkotenocr-lite/data/nijl-100421273/img/0028.jpg', '/Users/nakamura/git/genji/ndlkotenocr-lite/data/nijl-100421273/img/0014.jpg', '/Users/nakamura/git/genji/ndlkotenocr-lite/data/nijl-100421273/img/0015.jpg', '/Users/nakamura/git/genji/ndlkotenocr-lite/data/nijl-100421273/img/0001.jpg', '/Users/nakamura/git/genji/ndlkotenocr-lite/data/nijl-100421273/img/0029.jpg', '/Users/nakamura/git/genji/ndlkotenocr-lite/data/nijl-100421273/img/0017.jpg', '/Users/nakamura/git/genji/ndlkotenocr-lite/data/nijl-100421273/img/0003.jpg', '/Users/nakamura/git/genji/ndlkotenocr-lite/data/nijl-100421273/img/0002.jpg', '/Users/nakamura/git/genji/ndlkotenocr-lite/data/nijl-100421273/img/0016.jpg', '/Users/nakamura/git/genji/ndlkotenocr-lite/data/nijl-100421273/img/0033.jpg', '/Users/nakamura/git/genji/ndlkotenocr-lite/data/nijl-100421273/img/0027.jpg', '/Users/nakamura/git/genji/ndlkotenocr-lite/data/nijl-100421273/img/0026.jpg', '/Users/nakamura/git/genji/ndlkotenocr-lite/data/nijl-100421273/img/0032.jpg', '/Users/nakamura/git/genji/ndlkotenocr-lite/data/nijl-100421273/img/0024.jpg', '/Users/nakamura/git/genji/ndlkotenocr-lite/data/nijl-100421273/img/0030.jpg', '/Users/nakamura/git/genji/ndlkotenocr-lite/data/nijl-100421273/img/0018.jpg', '/Users/nakamura/git/genji/ndlkotenocr-lite/data/nijl-100421273/img/0019.jpg', '/Users/nakamura/git/genji/ndlkotenocr-lite/data/nijl-100421273/img/0031.jpg', '/Users/nakamura/git/genji/ndlkotenocr-lite/data/nijl-100421273/img/0025.jpg', '/Users/nakamura/git/genji/ndlkotenocr-lite/data/nijl-100421273/img/0009.jpg', '/Users/nakamura/git/genji/ndlkotenocr-lite/data/nijl-100421273/img/0021.jpg', '/Users/nakamura/git/genji/ndlkotenocr-lite/data/nijl-100421273/img/0020.jpg', '/Users/nakamura/git/genji/ndlkotenocr-lite/data/nijl-100421273/img/0008.jpg', '/Users/nakamura/git/genji/ndlkotenocr-lite/data/nijl-100421273/img/0022.jpg', '/Users/nakamura/git/genji/ndlkotenocr-lite/data/nijl-100421273/img/0023.jpg']\n",
      "[INFO] Intialize Model\n",
      "[INFO] Inference Image\n",
      "[INFO] Intialize Model\n",
      "[INFO] Inference Image\n",
      "[INFO] Intialize Model\n",
      "[INFO] Inference Image\n",
      "[INFO] Intialize Model\n",
      "[INFO] Inference Image\n",
      "[INFO] Intialize Model\n",
      "[INFO] Inference Image\n",
      "[INFO] Intialize Model\n",
      "[INFO] Inference Image\n",
      "[INFO] Intialize Model\n",
      "[INFO] Inference Image\n",
      "[INFO] Intialize Model\n",
      "[INFO] Inference Image\n",
      "[INFO] Intialize Model\n",
      "[INFO] Inference Image\n",
      "[INFO] Intialize Model\n",
      "[INFO] Inference Image\n",
      "[INFO] Intialize Model\n",
      "[INFO] Inference Image\n",
      "[INFO] Intialize Model\n",
      "[INFO] Inference Image\n",
      "[INFO] Intialize Model\n",
      "[INFO] Inference Image\n",
      "[INFO] Intialize Model\n",
      "[INFO] Inference Image\n",
      "[INFO] Intialize Model\n",
      "[INFO] Inference Image\n",
      "[INFO] Intialize Model\n",
      "[INFO] Inference Image\n",
      "[INFO] Intialize Model\n",
      "[INFO] Inference Image\n",
      "[INFO] Intialize Model\n",
      "[INFO] Inference Image\n",
      "[INFO] Intialize Model\n",
      "[INFO] Inference Image\n",
      "[INFO] Intialize Model\n",
      "[INFO] Inference Image\n",
      "[INFO] Intialize Model\n",
      "[INFO] Inference Image\n",
      "[INFO] Intialize Model\n",
      "[INFO] Inference Image\n",
      "[INFO] Intialize Model\n",
      "[INFO] Inference Image\n",
      "[INFO] Intialize Model\n",
      "[INFO] Inference Image\n",
      "[INFO] Intialize Model\n",
      "[INFO] Inference Image\n",
      "[INFO] Intialize Model\n",
      "[INFO] Inference Image\n",
      "[INFO] Intialize Model\n",
      "[INFO] Inference Image\n",
      "[INFO] Intialize Model\n",
      "[INFO] Inference Image\n",
      "[INFO] Intialize Model\n",
      "[INFO] Inference Image\n",
      "[INFO] Intialize Model\n",
      "[INFO] Inference Image\n",
      "[INFO] Intialize Model\n",
      "[INFO] Inference Image\n",
      "[INFO] Intialize Model\n",
      "[INFO] Inference Image\n",
      "[INFO] Intialize Model\n",
      "[INFO] Inference Image\n"
     ]
    },
    {
     "name": "stderr",
     "output_type": "stream",
     "text": [
      "Creating TEI/XML: 33it [00:00, 2559.91it/s]\n"
     ]
    }
   ],
   "source": [
    "manifest_url = \"https://iiif.dl.itc.u-tokyo.ac.jp/repo/iiif/b90bbddc-509d-7c12-0fb9-af409a90a487/manifest\"\n",
    "\n",
    "id = \"utokyo-b90bbddc-509d-7c12-0fb9-af409a90a487\"\n",
    "\n",
    "manifest_url = \"https://kokusho.nijl.ac.jp/biblio/100421273/manifest\"\n",
    "\n",
    "id = \"nijl-100421273\"\n",
    "\n",
    "output_dir = f\"./tmp/data/{id}\"\n",
    "\n",
    "CoreClient.main(manifest_url, output_dir, \"/Users/nakamura/git/genji/ndlkotenocr-lite/ndlkotenocr-lite/src\")"
   ]
  }
 ],
 "metadata": {
  "kernelspec": {
   "display_name": ".venv",
   "language": "python",
   "name": "python3"
  },
  "language_info": {
   "codemirror_mode": {
    "name": "ipython",
    "version": 3
   },
   "file_extension": ".py",
   "mimetype": "text/x-python",
   "name": "python",
   "nbconvert_exporter": "python",
   "pygments_lexer": "ipython3",
   "version": "3.9.11"
  }
 },
 "nbformat": 4,
 "nbformat_minor": 2
}
